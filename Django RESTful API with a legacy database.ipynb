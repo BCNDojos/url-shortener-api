{
 "cells": [
  {
   "cell_type": "markdown",
   "metadata": {
    "slideshow": {
     "slide_type": "slide"
    }
   },
   "source": [
    "# Django RESTful API with a legacy database"
   ]
  },
  {
   "cell_type": "markdown",
   "metadata": {
    "slideshow": {
     "slide_type": "skip"
    }
   },
   "source": [
    "This document explains how to develop a RESTful API on a legacy database with Django.\n",
    "For the requirements and setup of this workshop, read the README.md document in the repository."
   ]
  },
  {
   "cell_type": "markdown",
   "metadata": {
    "slideshow": {
     "slide_type": "slide"
    }
   },
   "source": [
    "## Project initialization\n",
    "\n",
    "Let's create the project and application with Django tooling:\n",
    "\n",
    "    django-admin.py startproject url_shortener .\n",
    "    python manage.py statapp api"
   ]
  },
  {
   "cell_type": "markdown",
   "metadata": {
    "slideshow": {
     "slide_type": "subslide"
    }
   },
   "source": [
    "## Setup application\n",
    "\n",
    "Modify `url_shortener/settings.py`, so it looks like this:\n",
    "\n",
    "    INSTALLED_APPS = [\n",
    "        'django.contrib.admin',\n",
    "        'django.contrib.auth',\n",
    "        'django.contrib.contenttypes',\n",
    "        'django.contrib.sessions',\n",
    "        'django.contrib.messages',\n",
    "        'django.contrib.staticfiles',\n",
    "        'api',\n",
    "    ]"
   ]
  },
  {
   "cell_type": "markdown",
   "metadata": {
    "slideshow": {
     "slide_type": "subslide"
    }
   },
   "source": [
    "## Generate models from legacy database\n",
    "\n",
    "Let's create the models inferring these from current database:\n",
    "\n",
    "    python manage.py inspectdb > api/models.py"
   ]
  },
  {
   "cell_type": "markdown",
   "metadata": {
    "slideshow": {
     "slide_type": "subslide"
    }
   },
   "source": [
    "## Prepare API application to use legacy models\n",
    "\n",
    "Remove all `managed = False` from `api/models.py`.\n",
    "\n",
    "Create admin features in `api/admin.py`:\n",
    "\n",
    "    from api.models import Urls, Hits\n",
    "    from django.contrib import admin\n",
    "\n",
    "\n",
    "    admin.site.register(Urls)\n",
    "    admin.site.register(Hits)"
   ]
  },
  {
   "cell_type": "markdown",
   "metadata": {
    "slideshow": {
     "slide_type": "slide"
    }
   },
   "source": [
    "## Initialize application\n",
    "\n",
    "Let's initialize the Django database objects (admin, etc.):\n",
    "\n",
    "    python manage.py migrate\n",
    "    \n",
    "Now, fake the initialization of the derived models for api:\n",
    "\n",
    "    python manage.py makemigrations api\n",
    "    python manage.py migrate --fake-initial api\n",
    "    \n",
    "Let's create a superuser account:\n",
    "\n",
    "    python manage.py createsuperuser"
   ]
  },
  {
   "cell_type": "markdown",
   "metadata": {
    "slideshow": {
     "slide_type": "subslide"
    }
   },
   "source": [
    "## Preliminar test\n",
    "\n",
    "    python manage.py runserver 8080\n",
    "\n",
    "Go to http://127.0.0.1:8080/admin, login as admin, and create a URL and a Hit.\n",
    "This should work more or less fine, ...\n"
   ]
  },
  {
   "cell_type": "markdown",
   "metadata": {
    "slideshow": {
     "slide_type": "fragment"
    }
   },
   "source": [
    "but there are some issues:"
   ]
  },
  {
   "cell_type": "markdown",
   "metadata": {
    "slideshow": {
     "slide_type": "fragment"
    }
   },
   "source": [
    "* The models are pluralized in a bad way."
   ]
  },
  {
   "cell_type": "markdown",
   "metadata": {
    "slideshow": {
     "slide_type": "fragment"
    }
   },
   "source": [
    "* The references to their objects, are names like `Urlss object`, not giving a clue of what's the object referencing to."
   ]
  },
  {
   "cell_type": "markdown",
   "metadata": {
    "slideshow": {
     "slide_type": "fragment"
    }
   },
   "source": [
    "* The fields are not automatically incremented."
   ]
  },
  {
   "cell_type": "markdown",
   "metadata": {
    "slideshow": {
     "slide_type": "slide"
    }
   },
   "source": [
    "## Fixing small issues here\n",
    "\n",
    "### Pluralized model names\n",
    "\n",
    "Add `verbose_name = '...'` to each models' `Meta` subclass."
   ]
  },
  {
   "cell_type": "markdown",
   "metadata": {
    "slideshow": {
     "slide_type": "subslide"
    }
   },
   "source": [
    "### Object names in references\n",
    "\n",
    "Add `__str__` method with some code similar to this:\n",
    "\n",
    "    def __str__(self):\n",
    "        return 'Url for {}'.format(self.url)"
   ]
  },
  {
   "cell_type": "markdown",
   "metadata": {
    "slideshow": {
     "slide_type": "subslide"
    }
   },
   "source": [
    "### Autoincrement fields not being used appropriately\n",
    "\n",
    "Change the `id` fields to be `AutoField`s."
   ]
  },
  {
   "cell_type": "markdown",
   "metadata": {
    "slideshow": {
     "slide_type": "slide"
    }
   },
   "source": [
    "## Create the API\n",
    "\n",
    "Create `api/serializers.py` :\n",
    "\n",
    "    from api.models import Urls, Hits\n",
    "    from rest_framework import serializers\n",
    "\n",
    "\n",
    "    class UrlSerializer(serializers.HyperlinkedModelSerializer):\n",
    "        class Meta:\n",
    "            model = Urls\n",
    "            fields = ('url', 'short_code', 'ip', 'time')\n",
    "\n",
    "\n",
    "    class HitSerializer(serializers.HyperlinkedModelSerializer):\n",
    "        class Meta:\n",
    "            model = Hits\n",
    "            fields = ('url', 'ip', 'time')"
   ]
  },
  {
   "cell_type": "markdown",
   "metadata": {
    "slideshow": {
     "slide_type": "subslide"
    }
   },
   "source": [
    "Add the following code to `api/views.py`:\n",
    "\n",
    "    from api.models import Urls, Hits\n",
    "    from rest_framework import viewsets\n",
    "    from api.serializers import UrlSerializer, HitSerializer\n",
    "\n",
    "\n",
    "    class UrlViewSet(viewsets.ModelViewSet):\n",
    "        \"\"\"\n",
    "        API endpoint that allows urls to be viewed or edited.\n",
    "        \"\"\"\n",
    "        queryset = Urls.objects.all().order_by('-time')\n",
    "        serializer_class = UrlSerializer\n",
    "\n",
    "\n",
    "    class HitViewSet(viewsets.ModelViewSet):\n",
    "        \"\"\"\n",
    "        API endpoint that allows hits to be viewed or edited.\n",
    "        \"\"\"\n",
    "        queryset = Hits.objects.all()\n",
    "        serializer_class = HitSerializer"
   ]
  },
  {
   "cell_type": "markdown",
   "metadata": {
    "slideshow": {
     "slide_type": "subslide"
    }
   },
   "source": [
    "Modify `url_shortener/urls.py`, to get this code:\n",
    "\n",
    "    from django.conf.urls import url, include\n",
    "    from rest_framework import routers\n",
    "    from django.contrib import admin\n",
    "    from api import views\n",
    "\n",
    "\n",
    "    router = routers.DefaultRouter()\n",
    "    router.register(r'urls', views.UrlViewSet)\n",
    "    router.register(r'hits', views.HitViewSet)\n",
    "\n",
    "    urlpatterns = [\n",
    "        url(r'^admin/', admin.site.urls),\n",
    "        url(r'^', include(router.urls)),\n",
    "        url(r'^api-auth/', include('rest_framework.urls', namespace='rest_framework')),\n",
    "    ]"
   ]
  },
  {
   "cell_type": "markdown",
   "metadata": {
    "slideshow": {
     "slide_type": "subslide"
    }
   },
   "source": [
    "Modify `url_shortener/settings.py`:\n",
    "\n",
    "    INSTALLED_APPS = [\n",
    "        'django.contrib.admin',\n",
    "        'django.contrib.auth',\n",
    "        'django.contrib.contenttypes',\n",
    "        'django.contrib.sessions',\n",
    "        'django.contrib.messages',\n",
    "        'django.contrib.staticfiles',\n",
    "        'api',\n",
    "        'rest_framework',\n",
    "    ]\n",
    "\n",
    "    REST_FRAMEWORK = {\n",
    "        'DEFAULT_PERMISSION_CLASSES': ('rest_framework.permissions.IsAdminUser',),\n",
    "        'PAGE_SIZE': 10\n",
    "    }\n"
   ]
  },
  {
   "cell_type": "markdown",
   "metadata": {
    "slideshow": {
     "slide_type": "slide"
    }
   },
   "source": [
    "## Test it\n",
    "\n",
    "    python manage.py runserver 8080\n",
    "    http -a admin:1234admin5678 http://127.0.0.1:8080/urls/\n",
    "    http --form -a admin:1234admin5678 POST http://127.0.0.1:8080/urls/ \\\n",
    "         url=https://devex.com \\\n",
    "         ip=127.0.0.1 \\\n",
    "         short_code=devex \\\n",
    "         time=2016-05-14"
   ]
  },
  {
   "cell_type": "markdown",
   "metadata": {
    "slideshow": {
     "slide_type": "subslide"
    }
   },
   "source": [
    "## Make it public read-only\n",
    "\n",
    "Change `url_shortener/settings.py`:\n",
    "\n",
    "    REST_FRAMEWORK = {\n",
    "        'DEFAULT_PERMISSION_CLASSES': ('rest_framework.permissions.IsAuthenticatedOrReadOnly',),\n",
    "        'PAGE_SIZE': 10\n",
    "    }\n"
   ]
  },
  {
   "cell_type": "markdown",
   "metadata": {
    "slideshow": {
     "slide_type": "subslide"
    }
   },
   "source": [
    "## Test it again\n",
    "\n",
    "    python manage.py runserver 8080\n",
    "    http http://127.0.0.1:8080/urls/\n",
    "    http --form -a admin:1234admin5678 POST http://127.0.0.1:8080/urls/ \\\n",
    "         url=https://devex.com \\\n",
    "         ip=127.0.0.1 \\\n",
    "         short_code=devex \\\n",
    "         time=2016-05-14"
   ]
  },
  {
   "cell_type": "markdown",
   "metadata": {
    "slideshow": {
     "slide_type": "subslide"
    }
   },
   "source": [
    "## Want more? Homework?\n",
    "\n",
    "Modify implementation on Hit model, so time is not asked, and it gets the time of the request on model save.\n",
    "\n",
    "Let's implement the logic for adding URLs, with optional `short_code`, so if it is not present"
   ]
  }
 ],
 "metadata": {
  "celltoolbar": "Slideshow",
  "kernelspec": {
   "display_name": "Python 3",
   "language": "python",
   "name": "python3"
  },
  "language_info": {
   "codemirror_mode": {
    "name": "ipython",
    "version": 3
   },
   "file_extension": ".py",
   "mimetype": "text/x-python",
   "name": "python",
   "nbconvert_exporter": "python",
   "pygments_lexer": "ipython3",
   "version": "3.4.4"
  }
 },
 "nbformat": 4,
 "nbformat_minor": 0
}
